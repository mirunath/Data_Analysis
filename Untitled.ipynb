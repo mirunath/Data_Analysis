{
 "cells": [
  {
   "cell_type": "code",
   "execution_count": 1,
   "id": "ece52683-306d-4d2e-93fa-1ae7ddc2130e",
   "metadata": {},
   "outputs": [
    {
     "name": "stderr",
     "output_type": "stream",
     "text": [
      "[nltk_data] Downloading package wordnet to\n",
      "[nltk_data]     C:\\Users\\isofr\\AppData\\Roaming\\nltk_data...\n",
      "[nltk_data]   Package wordnet is already up-to-date!\n",
      "[nltk_data] Downloading package punkt to\n",
      "[nltk_data]     C:\\Users\\isofr\\AppData\\Roaming\\nltk_data...\n",
      "[nltk_data]   Package punkt is already up-to-date!\n",
      "[nltk_data] Downloading package stopwords to\n",
      "[nltk_data]     C:\\Users\\isofr\\AppData\\Roaming\\nltk_data...\n",
      "[nltk_data]   Package stopwords is already up-to-date!\n"
     ]
    }
   ],
   "source": [
    "import pandas as pd\n",
    "import numpy as np\n",
    "\n",
    "import string\n",
    "\n",
    "from sklearn.feature_extraction.text import CountVectorizer, TfidfVectorizer\n",
    "from sklearn.decomposition import TruncatedSVD, LatentDirichletAllocation\n",
    "\n",
    "import nltk\n",
    "nltk.download(\"wordnet\")\n",
    "nltk.download('punkt')\n",
    "nltk.download('stopwords')\n",
    "from nltk.corpus import stopwords, wordnet\n",
    "from nltk.stem import WordNetLemmatizer\n",
    "from nltk.tokenize import word_tokenize"
   ]
  },
  {
   "cell_type": "code",
   "execution_count": 2,
   "id": "3e338c26-1da4-40d9-a814-4b020863cb0b",
   "metadata": {},
   "outputs": [
    {
     "data": {
      "text/html": [
       "<div>\n",
       "<style scoped>\n",
       "    .dataframe tbody tr th:only-of-type {\n",
       "        vertical-align: middle;\n",
       "    }\n",
       "\n",
       "    .dataframe tbody tr th {\n",
       "        vertical-align: top;\n",
       "    }\n",
       "\n",
       "    .dataframe thead th {\n",
       "        text-align: right;\n",
       "    }\n",
       "</style>\n",
       "<table border=\"1\" class=\"dataframe\">\n",
       "  <thead>\n",
       "    <tr style=\"text-align: right;\">\n",
       "      <th></th>\n",
       "      <th>Genre</th>\n",
       "      <th>Reports</th>\n",
       "      <th>Age</th>\n",
       "      <th>Gpa</th>\n",
       "      <th>Year</th>\n",
       "      <th>Count</th>\n",
       "      <th>Gender</th>\n",
       "      <th>Nationality</th>\n",
       "    </tr>\n",
       "  </thead>\n",
       "  <tbody>\n",
       "    <tr>\n",
       "      <th>0</th>\n",
       "      <td>Academic Support and Resources</td>\n",
       "      <td>The limited access to research databases and m...</td>\n",
       "      <td>27</td>\n",
       "      <td>2.18</td>\n",
       "      <td>2</td>\n",
       "      <td>1</td>\n",
       "      <td>M</td>\n",
       "      <td>Egypt</td>\n",
       "    </tr>\n",
       "    <tr>\n",
       "      <th>1</th>\n",
       "      <td>Academic Support and Resources</td>\n",
       "      <td>I'm having trouble finding the course material...</td>\n",
       "      <td>23</td>\n",
       "      <td>3.11</td>\n",
       "      <td>2</td>\n",
       "      <td>1</td>\n",
       "      <td>F</td>\n",
       "      <td>Egypt</td>\n",
       "    </tr>\n",
       "    <tr>\n",
       "      <th>2</th>\n",
       "      <td>Academic Support and Resources</td>\n",
       "      <td>It's frustrating to have limited access to res...</td>\n",
       "      <td>20</td>\n",
       "      <td>3.68</td>\n",
       "      <td>2</td>\n",
       "      <td>1</td>\n",
       "      <td>F</td>\n",
       "      <td>Egypt</td>\n",
       "    </tr>\n",
       "    <tr>\n",
       "      <th>3</th>\n",
       "      <td>Academic Support and Resources</td>\n",
       "      <td>I'm really struggling in one of my classes but...</td>\n",
       "      <td>20</td>\n",
       "      <td>1.30</td>\n",
       "      <td>2</td>\n",
       "      <td>1</td>\n",
       "      <td>F</td>\n",
       "      <td>Egypt</td>\n",
       "    </tr>\n",
       "    <tr>\n",
       "      <th>4</th>\n",
       "      <td>Academic Support and Resources</td>\n",
       "      <td>I am really struggling with understanding the...</td>\n",
       "      <td>26</td>\n",
       "      <td>2.50</td>\n",
       "      <td>2</td>\n",
       "      <td>1</td>\n",
       "      <td>F</td>\n",
       "      <td>Egypt</td>\n",
       "    </tr>\n",
       "  </tbody>\n",
       "</table>\n",
       "</div>"
      ],
      "text/plain": [
       "                            Genre  \\\n",
       "0  Academic Support and Resources   \n",
       "1  Academic Support and Resources   \n",
       "2  Academic Support and Resources   \n",
       "3  Academic Support and Resources   \n",
       "4  Academic Support and Resources   \n",
       "\n",
       "                                             Reports  Age   Gpa  Year  Count  \\\n",
       "0  The limited access to research databases and m...   27  2.18     2      1   \n",
       "1  I'm having trouble finding the course material...   23  3.11     2      1   \n",
       "2  It's frustrating to have limited access to res...   20  3.68     2      1   \n",
       "3  I'm really struggling in one of my classes but...   20  1.30     2      1   \n",
       "4   I am really struggling with understanding the...   26  2.50     2      1   \n",
       "\n",
       "  Gender Nationality  \n",
       "0      M       Egypt  \n",
       "1      F       Egypt  \n",
       "2      F       Egypt  \n",
       "3      F       Egypt  \n",
       "4      F       Egypt  "
      ]
     },
     "execution_count": 2,
     "metadata": {},
     "output_type": "execute_result"
    }
   ],
   "source": [
    "df = pd.read_csv ('dataset.csv')\n",
    "\n",
    "df.head(5)"
   ]
  },
  {
   "cell_type": "code",
   "execution_count": 3,
   "id": "99426eb8-050c-4fef-8ee0-37def5a666d8",
   "metadata": {},
   "outputs": [
    {
     "name": "stdout",
     "output_type": "stream",
     "text": [
      "<class 'pandas.core.frame.DataFrame'>\n",
      "RangeIndex: 1005 entries, 0 to 1004\n",
      "Data columns (total 8 columns):\n",
      " #   Column       Non-Null Count  Dtype  \n",
      "---  ------       --------------  -----  \n",
      " 0   Genre        1005 non-null   object \n",
      " 1   Reports      1005 non-null   object \n",
      " 2   Age          1005 non-null   int64  \n",
      " 3   Gpa          1005 non-null   float64\n",
      " 4   Year         1005 non-null   int64  \n",
      " 5   Count        1005 non-null   int64  \n",
      " 6   Gender       1005 non-null   object \n",
      " 7   Nationality  1005 non-null   object \n",
      "dtypes: float64(1), int64(3), object(4)\n",
      "memory usage: 62.9+ KB\n"
     ]
    }
   ],
   "source": [
    "df.info()"
   ]
  },
  {
   "cell_type": "code",
   "execution_count": 4,
   "id": "74435eff-0408-4198-90e8-1f4960f5acf6",
   "metadata": {
    "editable": true,
    "slideshow": {
     "slide_type": ""
    },
    "tags": []
   },
   "outputs": [
    {
     "data": {
      "text/plain": [
       "0    The limited access to research databases and m...\n",
       "1    I'm having trouble finding the course material...\n",
       "2    It's frustrating to have limited access to res...\n",
       "3    I'm really struggling in one of my classes but...\n",
       "4     I am really struggling with understanding the...\n",
       "Name: Reports, dtype: object"
      ]
     },
     "execution_count": 4,
     "metadata": {},
     "output_type": "execute_result"
    }
   ],
   "source": [
    "df_text = df['Reports']\n",
    "df_text.head(5)"
   ]
  },
  {
   "cell_type": "code",
   "execution_count": 5,
   "id": "f903e117-2bcf-4e50-9c78-1d1ab0c98ab8",
   "metadata": {},
   "outputs": [],
   "source": [
    "df_text = df_text.str.lower()"
   ]
  },
  {
   "cell_type": "code",
   "execution_count": 6,
   "id": "d280ec80-7210-487e-9187-33cf39e98ea7",
   "metadata": {},
   "outputs": [
    {
     "data": {
      "text/plain": [
       "0    [the, limited, access, to, research, database,...\n",
       "1    [i, 'm, having, trouble, finding, the, course,...\n",
       "2    [it, 's, frustrating, to, have, limited, acces...\n",
       "3    [i, 'm, really, struggling, in, one, of, my, c...\n",
       "4    [i, am, really, struggling, with, understandin...\n",
       "Name: Reports, dtype: object"
      ]
     },
     "execution_count": 6,
     "metadata": {},
     "output_type": "execute_result"
    }
   ],
   "source": [
    "df_text = df_text.apply(word_tokenize)\n",
    "\n",
    "lemmatizer = WordNetLemmatizer()\n",
    "df_text = df_text.apply(lambda x: [lemmatizer.lemmatize(word) for word in x])\n",
    "\n",
    "df_text.head(5)"
   ]
  },
  {
   "cell_type": "code",
   "execution_count": 7,
   "id": "3e0538e1-5876-4182-92f9-62dbd4863cf4",
   "metadata": {
    "editable": true,
    "slideshow": {
     "slide_type": ""
    },
    "tags": []
   },
   "outputs": [
    {
     "name": "stdout",
     "output_type": "stream",
     "text": [
      "Stop Words: \n",
      " {'hadn', 'won', 'under', 'very', 'll', 'university', 'a', 'we', \"wasn't\", 'most', 'such', 'this', 'over', 're', \"hadn't\", 'to', \"you'd\", 'you', 'can', 'y', 'have', 'down', 'nor', 'for', 'ain', 'once', 'there', 'between', 'both', 'mightn', \"mightn't\", 'through', 'further', 'his', 'ourselves', 'that', 'their', 'herself', 'up', 'where', 'too', 'wouldn', 'what', 'hers', 'now', 'not', 'didn', 's', 'are', 'aren', 'again', 'yourself', 'them', \"you've\", 'had', 'weren', 'each', 'some', 'other', \"she's\", 'all', 'own', 'i', 'yourselves', 'am', 'is', 'in', 'at', 'doesn', 'him', 'during', 'were', 'the', 'so', \"didn't\", 'about', 'yours', 'on', \"hasn't\", \"shouldn't\", \"don't\", 'having', \"isn't\", 'ma', 'been', 'shouldn', \"needn't\", \"you're\", 'they', 't', 'those', \"mustn't\", \"you'll\", 'here', \"haven't\", 'before', 'after', \"shan't\", 'was', 'haven', 'when', 'do', 'whom', 'as', 'then', 'and', 'of', 'mustn', 'doing', \"won't\", 'by', 've', 'couldn', 'which', 'does', 'out', 'from', 'no', 'until', 'himself', \"doesn't\", 'below', 'more', 'with', 'o', 'it', 'will', 'myself', 'wasn', 'while', 'any', 'he', \"should've\", 'if', 'why', \"wouldn't\", 'academic', 'few', 'be', 'your', 'should', 'but', \"aren't\", 'its', 'because', 'just', 'against', 'an', 'isn', 'these', 'how', 'our', 'theirs', 'shan', 'she', \"weren't\", 'don', 'ours', 'themselves', 'd', 'into', \"couldn't\", 'above', 'off', 'needn', 'hasn', 'itself', 'or', 'only', 'm', 'has', 'who', \"it's\", 'being', \"that'll\", 'did', 'than', 'student', 'her', 'my', 'me', 'same'}\n"
     ]
    },
    {
     "data": {
      "text/plain": [
       "0    [limited, access, research, database, material...\n",
       "1    ['m, trouble, finding, course, material, need,...\n",
       "2    ['s, frustrating, limited, access, research, d...\n",
       "3    ['m, really, struggling, one, class, ca, n't, ...\n",
       "4    [really, struggling, understanding, instructio...\n",
       "Name: Reports, dtype: object"
      ]
     },
     "execution_count": 7,
     "metadata": {},
     "output_type": "execute_result"
    }
   ],
   "source": [
    "stop_w = set(stopwords.words('english'))\n",
    "stop_w.add('student')\n",
    "stop_w.add('university')\n",
    "stop_w.add('academic')\n",
    "\n",
    "\n",
    "df_text = df_text.apply(lambda x: [word for word in x if word not in stop_w])\n",
    "print ('Stop Words: \\n', stop_w)\n",
    "df_text.head(5)"
   ]
  },
  {
   "cell_type": "code",
   "execution_count": 8,
   "id": "a95b3d3a-ff0b-4bfe-aa2f-8fe85bf5577c",
   "metadata": {
    "editable": true,
    "slideshow": {
     "slide_type": ""
    },
    "tags": []
   },
   "outputs": [
    {
     "data": {
      "text/plain": [
       "0    [limited, access, research, database, material...\n",
       "1    ['m, trouble, finding, course, material, need,...\n",
       "2    ['s, frustrating, limited, access, research, d...\n",
       "3    ['m, really, struggling, one, class, ca, n't, ...\n",
       "4    [really, struggling, understanding, instructio...\n",
       "Name: Reports, dtype: object"
      ]
     },
     "execution_count": 8,
     "metadata": {},
     "output_type": "execute_result"
    }
   ],
   "source": [
    "df_text.map(lambda x: x.translate(str.maketrans('', '', string.punctuation)) if isinstance(x, str) else x)\n",
    "df_text.head(5)"
   ]
  },
  {
   "cell_type": "code",
   "execution_count": 9,
   "id": "9f0c1793-2b05-4e52-8450-5435609b1674",
   "metadata": {},
   "outputs": [
    {
     "name": "stdout",
     "output_type": "stream",
     "text": [
      "  (0, 845)\t1\n",
      "  (0, 50)\t2\n",
      "  (0, 1203)\t1\n",
      "  (0, 372)\t1\n",
      "  (0, 892)\t1\n",
      "  (0, 237)\t1\n",
      "  (0, 868)\t1\n",
      "  (0, 622)\t1\n",
      "  (0, 108)\t1\n",
      "  (0, 950)\t1\n",
      "  (0, 185)\t1\n",
      "  (0, 43)\t1\n",
      "  (0, 1392)\t1\n",
      "  (0, 45)\t1\n",
      "  (1, 892)\t1\n",
      "  (1, 950)\t1\n",
      "  (1, 1493)\t1\n",
      "  (1, 590)\t1\n",
      "  (1, 348)\t1\n",
      "  (1, 263)\t1\n",
      "  (1, 839)\t1\n",
      "  (1, 448)\t1\n",
      "  (1, 197)\t1\n",
      "  (1, 106)\t1\n",
      "  (1, 1320)\t1\n",
      "  :\t:\n",
      "  (1000, 17)\t1\n",
      "  (1000, 406)\t1\n",
      "  (1000, 1504)\t1\n",
      "  (1001, 91)\t1\n",
      "  (1001, 589)\t1\n",
      "  (1001, 603)\t1\n",
      "  (1001, 18)\t1\n",
      "  (1001, 1504)\t1\n",
      "  (1002, 589)\t1\n",
      "  (1002, 500)\t1\n",
      "  (1002, 603)\t1\n",
      "  (1002, 19)\t1\n",
      "  (1002, 1504)\t1\n",
      "  (1003, 589)\t1\n",
      "  (1003, 685)\t1\n",
      "  (1003, 603)\t1\n",
      "  (1003, 20)\t1\n",
      "  (1003, 975)\t1\n",
      "  (1003, 1504)\t1\n",
      "  (1004, 589)\t1\n",
      "  (1004, 603)\t1\n",
      "  (1004, 21)\t1\n",
      "  (1004, 340)\t1\n",
      "  (1004, 842)\t1\n",
      "  (1004, 1504)\t1\n"
     ]
    }
   ],
   "source": [
    "vectorizer = CountVectorizer()\n",
    "\n",
    "BoW_df = vectorizer.fit_transform(df_text.apply(' '.join))\n",
    "print(BoW_df)"
   ]
  },
  {
   "cell_type": "code",
   "execution_count": 10,
   "id": "22c6b212-6635-440a-936e-2f76ada28807",
   "metadata": {},
   "outputs": [
    {
     "name": "stdout",
     "output_type": "stream",
     "text": [
      "  (0, 45)\t0.3252247923429595\n",
      "  (0, 1392)\t0.25741850865204857\n",
      "  (0, 43)\t0.24295241412656934\n",
      "  (0, 185)\t0.26883449140412025\n",
      "  (0, 950)\t0.179118589434489\n",
      "  (0, 108)\t0.34126123364405325\n",
      "  (0, 622)\t0.3326683160962006\n",
      "  (0, 868)\t0.22651921937777184\n",
      "  (0, 237)\t0.21877997278731787\n",
      "  (0, 892)\t0.1982816608793846\n",
      "  (0, 372)\t0.2617085959978892\n",
      "  (0, 1203)\t0.2617085959978892\n",
      "  (0, 50)\t0.36449043915658164\n",
      "  (0, 845)\t0.17067064888403657\n",
      "  (1, 1320)\t0.42952067611588185\n",
      "  (1, 106)\t0.25220653114239194\n",
      "  (1, 197)\t0.42952067611588185\n",
      "  (1, 448)\t0.31659571411452875\n",
      "  (1, 839)\t0.347633858084929\n",
      "  (1, 263)\t0.20367075211317565\n",
      "  (1, 348)\t0.20727313949930995\n",
      "  (1, 590)\t0.2509584780563873\n",
      "  (1, 1493)\t0.3280864611855377\n",
      "  (1, 950)\t0.2025143045975075\n",
      "  (1, 892)\t0.22418037566175486\n",
      "  :\t:\n",
      "  (1000, 902)\t0.36837529742985026\n",
      "  (1000, 589)\t0.2645371375263222\n",
      "  (1000, 950)\t0.24068387058592397\n",
      "  (1001, 1504)\t0.5607737519989152\n",
      "  (1001, 18)\t0.5466535351712615\n",
      "  (1001, 603)\t0.36121997439374565\n",
      "  (1001, 589)\t0.3235050350614783\n",
      "  (1001, 91)\t0.3893164958522499\n",
      "  (1002, 1504)\t0.529261688837942\n",
      "  (1002, 19)\t0.5159349420379663\n",
      "  (1002, 603)\t0.34092161590687614\n",
      "  (1002, 500)\t0.4942081241177764\n",
      "  (1002, 589)\t0.3053260260379428\n",
      "  (1003, 1504)\t0.4648938197184532\n",
      "  (1003, 975)\t0.4956842319874501\n",
      "  (1003, 20)\t0.4648938197184532\n",
      "  (1003, 603)\t0.29945933285200393\n",
      "  (1003, 685)\t0.40055129081951424\n",
      "  (1003, 589)\t0.2681928155727476\n",
      "  (1004, 1504)\t0.4395220018782374\n",
      "  (1004, 842)\t0.48928589229019037\n",
      "  (1004, 340)\t0.48928589229019037\n",
      "  (1004, 21)\t0.4284548897944016\n",
      "  (1004, 603)\t0.28311618669386623\n",
      "  (1004, 589)\t0.25355605557691185\n"
     ]
    }
   ],
   "source": [
    "tfidf = TfidfVectorizer()\n",
    "\n",
    "tfidf_df = tfidf.fit_transform(df_text.apply(' '.join))\n",
    "print(tfidf_df)"
   ]
  },
  {
   "cell_type": "code",
   "execution_count": 11,
   "id": "0b6bf26b-dcdb-4627-b5c7-86eacbfc7f2a",
   "metadata": {},
   "outputs": [
    {
     "name": "stdout",
     "output_type": "stream",
     "text": [
      "[[ 0.34379758  0.33695002 -0.15366756 -0.23511651]\n",
      " [ 0.21621306  0.09355922  0.05778494 -0.03554458]\n",
      " [ 0.28779584  0.21206322 -0.17589586 -0.12715711]\n",
      " ...\n",
      " [ 0.05710566 -0.09809273 -0.00124078 -0.07676064]\n",
      " [ 0.0559712  -0.10071119 -0.00840856 -0.09287893]\n",
      " [ 0.04579816 -0.07891523 -0.00262315 -0.066166  ]]\n"
     ]
    }
   ],
   "source": [
    "lsa = TruncatedSVD(n_components=4, algorithm='randomized', n_iter=15, random_state=42)\n",
    "result = lsa.fit_transform(tfidf_df)\n",
    "\n",
    "for i in range(result.shape[1]):\n",
    "    df_text[f'LSA Topic {i}'] = result[:, i]\n",
    "print (result)"
   ]
  },
  {
   "cell_type": "code",
   "execution_count": 12,
   "id": "04067137-4ffd-4587-ad0d-79834fd09a60",
   "metadata": {},
   "outputs": [
    {
     "name": "stdout",
     "output_type": "stream",
     "text": [
      "Topic 1: limited, access, course, difficult\n",
      "Topic 2: access, limited, material, research\n",
      "Topic 3: health, time, mental, stress\n",
      "Topic 4: job, opportunity, internship, online\n"
     ]
    }
   ],
   "source": [
    "n_top_words = 4\n",
    "topics = []\n",
    "feature_names = vectorizer.get_feature_names_out()\n",
    "\n",
    "topics = [[feature_names[i] for i in topic.argsort()[:-n_top_words - 1:-1]] for topic in lsa.components_]\n",
    "\n",
    "for i, topic in enumerate(topics):\n",
    "    print(f\"Topic {i+1}: {', '.join(topic)}\")"
   ]
  },
  {
   "cell_type": "code",
   "execution_count": 13,
   "id": "9168101c-1df2-4f26-bd78-f0945a17a7f2",
   "metadata": {},
   "outputs": [
    {
     "name": "stdout",
     "output_type": "stream",
     "text": [
      "[[0.1471959  0.14705986 0.14497843 0.56076581]\n",
      " [0.18877185 0.18901574 0.18013836 0.44207405]\n",
      " [0.1515487  0.14710754 0.1541851  0.54715866]\n",
      " ...\n",
      " [0.22884907 0.32069491 0.24777776 0.20267826]\n",
      " [0.22274333 0.3612834  0.21963031 0.19634297]\n",
      " [0.23517858 0.3275834  0.23600734 0.20123068]]\n"
     ]
    }
   ],
   "source": [
    "lda = LatentDirichletAllocation(n_components=4, doc_topic_prior=0.9, topic_word_prior=0.9)\n",
    "result = lda.fit_transform(tfidf_df)\n",
    "\n",
    "for i in range(result.shape[1]):\n",
    "    df_text[f'LDA Topic {i}'] = result[:, i]\n",
    "print (result)"
   ]
  },
  {
   "cell_type": "code",
   "execution_count": 14,
   "id": "e3dfbcf0-aab5-4383-bc59-69c7d2327aa7",
   "metadata": {
    "editable": true,
    "slideshow": {
     "slide_type": ""
    },
    "tags": []
   },
   "outputs": [
    {
     "name": "stdout",
     "output_type": "stream",
     "text": [
      "Topic 1: available, pay, financial, option\n",
      "Topic 2: option, food, campus, sport\n",
      "Topic 3: health, time, mental, wish\n",
      "Topic 4: access, limited, course, online\n"
     ]
    }
   ],
   "source": [
    "n_top_words = 4\n",
    "topics = []\n",
    "feature_names = vectorizer.get_feature_names_out()\n",
    "\n",
    "topics = [[feature_names[i] for i in topic.argsort()[:-n_top_words - 1:-1]] for topic in lda.components_]\n",
    "\n",
    "for i, topic in enumerate(topics):\n",
    "    print(f\"Topic {i+1}: {', '.join(topic)}\")"
   ]
  },
  {
   "cell_type": "code",
   "execution_count": null,
   "id": "c38afc6f-743c-475d-b703-5b4cf29a51a4",
   "metadata": {},
   "outputs": [],
   "source": []
  }
 ],
 "metadata": {
  "kernelspec": {
   "display_name": "Python 3 (ipykernel)",
   "language": "python",
   "name": "python3"
  },
  "language_info": {
   "codemirror_mode": {
    "name": "ipython",
    "version": 3
   },
   "file_extension": ".py",
   "mimetype": "text/x-python",
   "name": "python",
   "nbconvert_exporter": "python",
   "pygments_lexer": "ipython3",
   "version": "3.9.13"
  }
 },
 "nbformat": 4,
 "nbformat_minor": 5
}
