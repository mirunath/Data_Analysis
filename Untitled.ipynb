{
 "cells": [
  {
   "cell_type": "code",
   "execution_count": 1,
   "id": "ece52683-306d-4d2e-93fa-1ae7ddc2130e",
   "metadata": {},
   "outputs": [
    {
     "name": "stderr",
     "output_type": "stream",
     "text": [
      "[nltk_data] Downloading package wordnet to\n",
      "[nltk_data]     C:\\Users\\isofr\\AppData\\Roaming\\nltk_data...\n",
      "[nltk_data]   Package wordnet is already up-to-date!\n",
      "[nltk_data] Downloading package punkt to\n",
      "[nltk_data]     C:\\Users\\isofr\\AppData\\Roaming\\nltk_data...\n",
      "[nltk_data]   Package punkt is already up-to-date!\n",
      "[nltk_data] Downloading package stopwords to\n",
      "[nltk_data]     C:\\Users\\isofr\\AppData\\Roaming\\nltk_data...\n",
      "[nltk_data]   Package stopwords is already up-to-date!\n"
     ]
    }
   ],
   "source": [
    "import pandas as pd\n",
    "import numpy as np\n",
    "\n",
    "import string\n",
    "\n",
    "from sklearn.feature_extraction.text import CountVectorizer, TfidfVectorizer\n",
    "from sklearn.decomposition import TruncatedSVD, LatentDirichletAllocation\n",
    "\n",
    "import nltk\n",
    "nltk.download(\"wordnet\")\n",
    "nltk.download('punkt')\n",
    "nltk.download('stopwords')\n",
    "from nltk.corpus import stopwords, wordnet\n",
    "from nltk.stem import WordNetLemmatizer\n",
    "from nltk.tokenize import word_tokenize"
   ]
  },
  {
   "cell_type": "code",
   "execution_count": 2,
   "id": "3e338c26-1da4-40d9-a814-4b020863cb0b",
   "metadata": {},
   "outputs": [
    {
     "data": {
      "text/html": [
       "<div>\n",
       "<style scoped>\n",
       "    .dataframe tbody tr th:only-of-type {\n",
       "        vertical-align: middle;\n",
       "    }\n",
       "\n",
       "    .dataframe tbody tr th {\n",
       "        vertical-align: top;\n",
       "    }\n",
       "\n",
       "    .dataframe thead th {\n",
       "        text-align: right;\n",
       "    }\n",
       "</style>\n",
       "<table border=\"1\" class=\"dataframe\">\n",
       "  <thead>\n",
       "    <tr style=\"text-align: right;\">\n",
       "      <th></th>\n",
       "      <th>Genre</th>\n",
       "      <th>Reports</th>\n",
       "      <th>Age</th>\n",
       "      <th>Gpa</th>\n",
       "      <th>Year</th>\n",
       "      <th>Count</th>\n",
       "      <th>Gender</th>\n",
       "      <th>Nationality</th>\n",
       "    </tr>\n",
       "  </thead>\n",
       "  <tbody>\n",
       "    <tr>\n",
       "      <th>0</th>\n",
       "      <td>Academic Support and Resources</td>\n",
       "      <td>The limited access to research databases and m...</td>\n",
       "      <td>27</td>\n",
       "      <td>2.18</td>\n",
       "      <td>2</td>\n",
       "      <td>1</td>\n",
       "      <td>M</td>\n",
       "      <td>Egypt</td>\n",
       "    </tr>\n",
       "    <tr>\n",
       "      <th>1</th>\n",
       "      <td>Academic Support and Resources</td>\n",
       "      <td>I'm having trouble finding the course material...</td>\n",
       "      <td>23</td>\n",
       "      <td>3.11</td>\n",
       "      <td>2</td>\n",
       "      <td>1</td>\n",
       "      <td>F</td>\n",
       "      <td>Egypt</td>\n",
       "    </tr>\n",
       "    <tr>\n",
       "      <th>2</th>\n",
       "      <td>Academic Support and Resources</td>\n",
       "      <td>It's frustrating to have limited access to res...</td>\n",
       "      <td>20</td>\n",
       "      <td>3.68</td>\n",
       "      <td>2</td>\n",
       "      <td>1</td>\n",
       "      <td>F</td>\n",
       "      <td>Egypt</td>\n",
       "    </tr>\n",
       "    <tr>\n",
       "      <th>3</th>\n",
       "      <td>Academic Support and Resources</td>\n",
       "      <td>I'm really struggling in one of my classes but...</td>\n",
       "      <td>20</td>\n",
       "      <td>1.30</td>\n",
       "      <td>2</td>\n",
       "      <td>1</td>\n",
       "      <td>F</td>\n",
       "      <td>Egypt</td>\n",
       "    </tr>\n",
       "    <tr>\n",
       "      <th>4</th>\n",
       "      <td>Academic Support and Resources</td>\n",
       "      <td>I am really struggling with understanding the...</td>\n",
       "      <td>26</td>\n",
       "      <td>2.50</td>\n",
       "      <td>2</td>\n",
       "      <td>1</td>\n",
       "      <td>F</td>\n",
       "      <td>Egypt</td>\n",
       "    </tr>\n",
       "  </tbody>\n",
       "</table>\n",
       "</div>"
      ],
      "text/plain": [
       "                            Genre  \\\n",
       "0  Academic Support and Resources   \n",
       "1  Academic Support and Resources   \n",
       "2  Academic Support and Resources   \n",
       "3  Academic Support and Resources   \n",
       "4  Academic Support and Resources   \n",
       "\n",
       "                                             Reports  Age   Gpa  Year  Count  \\\n",
       "0  The limited access to research databases and m...   27  2.18     2      1   \n",
       "1  I'm having trouble finding the course material...   23  3.11     2      1   \n",
       "2  It's frustrating to have limited access to res...   20  3.68     2      1   \n",
       "3  I'm really struggling in one of my classes but...   20  1.30     2      1   \n",
       "4   I am really struggling with understanding the...   26  2.50     2      1   \n",
       "\n",
       "  Gender Nationality  \n",
       "0      M       Egypt  \n",
       "1      F       Egypt  \n",
       "2      F       Egypt  \n",
       "3      F       Egypt  \n",
       "4      F       Egypt  "
      ]
     },
     "execution_count": 2,
     "metadata": {},
     "output_type": "execute_result"
    }
   ],
   "source": [
    "df = pd.read_csv ('dataset.csv')\n",
    "\n",
    "df.head(5)"
   ]
  },
  {
   "cell_type": "code",
   "execution_count": 3,
   "id": "99426eb8-050c-4fef-8ee0-37def5a666d8",
   "metadata": {},
   "outputs": [
    {
     "name": "stdout",
     "output_type": "stream",
     "text": [
      "<class 'pandas.core.frame.DataFrame'>\n",
      "RangeIndex: 1005 entries, 0 to 1004\n",
      "Data columns (total 8 columns):\n",
      " #   Column       Non-Null Count  Dtype  \n",
      "---  ------       --------------  -----  \n",
      " 0   Genre        1005 non-null   object \n",
      " 1   Reports      1005 non-null   object \n",
      " 2   Age          1005 non-null   int64  \n",
      " 3   Gpa          1005 non-null   float64\n",
      " 4   Year         1005 non-null   int64  \n",
      " 5   Count        1005 non-null   int64  \n",
      " 6   Gender       1005 non-null   object \n",
      " 7   Nationality  1005 non-null   object \n",
      "dtypes: float64(1), int64(3), object(4)\n",
      "memory usage: 62.9+ KB\n"
     ]
    }
   ],
   "source": [
    "df.info()"
   ]
  },
  {
   "cell_type": "code",
   "execution_count": 4,
   "id": "74435eff-0408-4198-90e8-1f4960f5acf6",
   "metadata": {
    "editable": true,
    "slideshow": {
     "slide_type": ""
    },
    "tags": []
   },
   "outputs": [
    {
     "data": {
      "text/plain": [
       "0    The limited access to research databases and m...\n",
       "1    I'm having trouble finding the course material...\n",
       "2    It's frustrating to have limited access to res...\n",
       "3    I'm really struggling in one of my classes but...\n",
       "4     I am really struggling with understanding the...\n",
       "Name: Reports, dtype: object"
      ]
     },
     "execution_count": 4,
     "metadata": {},
     "output_type": "execute_result"
    }
   ],
   "source": [
    "df_text = df['Reports']\n",
    "df_text.head(5)"
   ]
  },
  {
   "cell_type": "code",
   "execution_count": 5,
   "id": "f903e117-2bcf-4e50-9c78-1d1ab0c98ab8",
   "metadata": {},
   "outputs": [],
   "source": [
    "df_text = df_text.str.lower()"
   ]
  },
  {
   "cell_type": "code",
   "execution_count": 6,
   "id": "d280ec80-7210-487e-9187-33cf39e98ea7",
   "metadata": {},
   "outputs": [
    {
     "data": {
      "text/plain": [
       "0    [the, limited, access, to, research, database,...\n",
       "1    [i, 'm, having, trouble, finding, the, course,...\n",
       "2    [it, 's, frustrating, to, have, limited, acces...\n",
       "3    [i, 'm, really, struggling, in, one, of, my, c...\n",
       "4    [i, am, really, struggling, with, understandin...\n",
       "Name: Reports, dtype: object"
      ]
     },
     "execution_count": 6,
     "metadata": {},
     "output_type": "execute_result"
    }
   ],
   "source": [
    "df_text = df_text.apply(word_tokenize)\n",
    "\n",
    "lemmatizer = WordNetLemmatizer()\n",
    "df_text = df_text.apply(lambda x: [lemmatizer.lemmatize(word) for word in x])\n",
    "\n",
    "df_text.head(5)"
   ]
  },
  {
   "cell_type": "code",
   "execution_count": 7,
   "id": "3e0538e1-5876-4182-92f9-62dbd4863cf4",
   "metadata": {
    "editable": true,
    "slideshow": {
     "slide_type": ""
    },
    "tags": []
   },
   "outputs": [
    {
     "name": "stdout",
     "output_type": "stream",
     "text": [
      "Stop Words: \n",
      " {'shouldn', 'they', 'herself', 'for', \"mightn't\", 'with', 'a', 'under', \"shan't\", \"you'd\", 'as', 'we', 'an', 'up', 'y', 'here', 'he', 'to', 'same', 'are', 'aren', 'mustn', \"hadn't\", 'yourselves', 'myself', 'isn', 've', 'theirs', \"isn't\", 'by', 'him', 'your', 'ain', 'just', \"you've\", 'more', 're', \"she's\", 'will', 'after', \"doesn't\", 'yourself', 't', 'mightn', 'other', 'during', 'down', 'over', \"you'll\", 'hers', 'should', 'if', 'now', 'these', 'all', 'his', \"mustn't\", 'out', 'no', 'hadn', 'haven', 'yours', 'and', 'was', 'did', 'nor', 'while', 'why', 'me', \"couldn't\", 'how', 'were', \"aren't\", 'don', 'didn', 'she', 'about', \"should've\", \"weren't\", \"haven't\", 'into', 'because', 'some', 'where', 'so', 'it', 'of', \"it's\", 'needn', 'until', 'been', 'there', 'is', 'such', 'her', 'ma', 'couldn', 'off', 'between', \"wouldn't\", 'not', 'above', 'does', 'too', 'again', 'further', 'd', \"don't\", 'the', 'its', 'who', \"wasn't\", 'themselves', \"hasn't\", 'any', 'few', 'our', \"didn't\", 'when', 'you', 'being', 'that', 'below', 'itself', 'what', 's', 'through', \"won't\", 'on', 'but', 'their', 'both', \"needn't\", 'once', 'whom', 'than', 'very', 'or', 'them', 'm', 'has', 'in', 'most', 'which', 'ourselves', 'those', 'only', 'my', 'ours', 'himself', 'o', 'had', 'll', \"that'll\", 'do', 'doing', 'own', 'have', 'before', 'won', 'can', 'hasn', 'having', 'shan', 'wouldn', 'against', 'this', 'weren', 'be', \"you're\", 'wasn', 'at', 'then', 'am', 'i', \"shouldn't\", 'from', 'doesn', 'each'}\n"
     ]
    },
    {
     "data": {
      "text/plain": [
       "0    [limited, access, research, database, material...\n",
       "1    ['m, trouble, finding, course, material, need,...\n",
       "2    ['s, frustrating, limited, access, research, d...\n",
       "3    ['m, really, struggling, one, class, ca, n't, ...\n",
       "4    [really, struggling, understanding, instructio...\n",
       "Name: Reports, dtype: object"
      ]
     },
     "execution_count": 7,
     "metadata": {},
     "output_type": "execute_result"
    }
   ],
   "source": [
    "stop_w = set(stopwords.words('english'))\n",
    "\n",
    "df_text = df_text.apply(lambda x: [word for word in x if word not in stop_w])\n",
    "print ('Stop Words: \\n', stop_w)\n",
    "df_text.head(5)"
   ]
  },
  {
   "cell_type": "code",
   "execution_count": 8,
   "id": "a95b3d3a-ff0b-4bfe-aa2f-8fe85bf5577c",
   "metadata": {
    "editable": true,
    "slideshow": {
     "slide_type": ""
    },
    "tags": []
   },
   "outputs": [
    {
     "data": {
      "text/plain": [
       "0    [limited, access, research, database, material...\n",
       "1    ['m, trouble, finding, course, material, need,...\n",
       "2    ['s, frustrating, limited, access, research, d...\n",
       "3    ['m, really, struggling, one, class, ca, n't, ...\n",
       "4    [really, struggling, understanding, instructio...\n",
       "Name: Reports, dtype: object"
      ]
     },
     "execution_count": 8,
     "metadata": {},
     "output_type": "execute_result"
    }
   ],
   "source": [
    "df_text.map(lambda x: x.translate(str.maketrans('', '', string.punctuation)) if isinstance(x, str) else x)\n",
    "df_text.head(5)"
   ]
  },
  {
   "cell_type": "code",
   "execution_count": 9,
   "id": "9f0c1793-2b05-4e52-8450-5435609b1674",
   "metadata": {},
   "outputs": [
    {
     "name": "stdout",
     "output_type": "stream",
     "text": [
      "  (0, 846)\t1\n",
      "  (0, 51)\t2\n",
      "  (0, 1204)\t1\n",
      "  (0, 373)\t1\n",
      "  (0, 893)\t1\n",
      "  (0, 238)\t1\n",
      "  (0, 869)\t1\n",
      "  (0, 623)\t1\n",
      "  (0, 109)\t1\n",
      "  (0, 1383)\t1\n",
      "  (0, 951)\t1\n",
      "  (0, 186)\t1\n",
      "  (0, 43)\t1\n",
      "  (0, 1393)\t1\n",
      "  (0, 46)\t1\n",
      "  (1, 893)\t1\n",
      "  (1, 951)\t1\n",
      "  (1, 1494)\t1\n",
      "  (1, 591)\t1\n",
      "  (1, 349)\t1\n",
      "  (1, 264)\t1\n",
      "  (1, 840)\t1\n",
      "  (1, 449)\t1\n",
      "  (1, 198)\t1\n",
      "  (1, 107)\t1\n",
      "  :\t:\n",
      "  (1000, 17)\t1\n",
      "  (1000, 407)\t1\n",
      "  (1000, 1505)\t1\n",
      "  (1001, 92)\t1\n",
      "  (1001, 590)\t1\n",
      "  (1001, 604)\t1\n",
      "  (1001, 18)\t1\n",
      "  (1001, 1505)\t1\n",
      "  (1002, 590)\t1\n",
      "  (1002, 501)\t1\n",
      "  (1002, 604)\t1\n",
      "  (1002, 19)\t1\n",
      "  (1002, 1505)\t1\n",
      "  (1003, 590)\t1\n",
      "  (1003, 686)\t1\n",
      "  (1003, 604)\t1\n",
      "  (1003, 20)\t1\n",
      "  (1003, 976)\t1\n",
      "  (1003, 1505)\t1\n",
      "  (1004, 590)\t1\n",
      "  (1004, 604)\t1\n",
      "  (1004, 21)\t1\n",
      "  (1004, 341)\t1\n",
      "  (1004, 843)\t1\n",
      "  (1004, 1505)\t1\n"
     ]
    }
   ],
   "source": [
    "vectorizer = CountVectorizer()\n",
    "\n",
    "BoW_df = vectorizer.fit_transform(df_text.apply(' '.join))\n",
    "print(BoW_df)"
   ]
  },
  {
   "cell_type": "code",
   "execution_count": 10,
   "id": "22c6b212-6635-440a-936e-2f76ada28807",
   "metadata": {},
   "outputs": [
    {
     "name": "stdout",
     "output_type": "stream",
     "text": [
      "  (0, 46)\t0.3226636377519928\n",
      "  (0, 1393)\t0.255391330494798\n",
      "  (0, 43)\t0.241039156879654\n",
      "  (0, 186)\t0.26671741205445065\n",
      "  (0, 951)\t0.17770802539245295\n",
      "  (0, 1383)\t0.12525191187607276\n",
      "  (0, 109)\t0.3385737916167408\n",
      "  (0, 623)\t0.3300485435416517\n",
      "  (0, 869)\t0.22473537401201082\n",
      "  (0, 238)\t0.21705707421098508\n",
      "  (0, 893)\t0.19672018709871963\n",
      "  (0, 373)\t0.25964763327943624\n",
      "  (0, 1204)\t0.25964763327943624\n",
      "  (0, 51)\t0.3616200664679432\n",
      "  (0, 846)\t0.16932661261674098\n",
      "  (1, 1321)\t0.42952067611588185\n",
      "  (1, 107)\t0.25220653114239194\n",
      "  (1, 198)\t0.42952067611588185\n",
      "  (1, 449)\t0.31659571411452875\n",
      "  (1, 840)\t0.347633858084929\n",
      "  (1, 264)\t0.20367075211317565\n",
      "  (1, 349)\t0.20727313949930995\n",
      "  (1, 591)\t0.2509584780563873\n",
      "  (1, 1494)\t0.3280864611855377\n",
      "  (1, 951)\t0.2025143045975075\n",
      "  :\t:\n",
      "  (1000, 903)\t0.36837529742985026\n",
      "  (1000, 590)\t0.2645371375263222\n",
      "  (1000, 951)\t0.24068387058592397\n",
      "  (1001, 1505)\t0.5607737519989152\n",
      "  (1001, 18)\t0.5466535351712615\n",
      "  (1001, 604)\t0.36121997439374565\n",
      "  (1001, 590)\t0.3235050350614783\n",
      "  (1001, 92)\t0.3893164958522499\n",
      "  (1002, 1505)\t0.529261688837942\n",
      "  (1002, 19)\t0.5159349420379663\n",
      "  (1002, 604)\t0.34092161590687614\n",
      "  (1002, 501)\t0.4942081241177764\n",
      "  (1002, 590)\t0.3053260260379428\n",
      "  (1003, 1505)\t0.4648938197184532\n",
      "  (1003, 976)\t0.4956842319874501\n",
      "  (1003, 20)\t0.4648938197184532\n",
      "  (1003, 604)\t0.29945933285200393\n",
      "  (1003, 686)\t0.40055129081951424\n",
      "  (1003, 590)\t0.2681928155727476\n",
      "  (1004, 1505)\t0.4395220018782374\n",
      "  (1004, 843)\t0.48928589229019037\n",
      "  (1004, 341)\t0.48928589229019037\n",
      "  (1004, 21)\t0.4284548897944016\n",
      "  (1004, 604)\t0.28311618669386623\n",
      "  (1004, 590)\t0.25355605557691185\n"
     ]
    }
   ],
   "source": [
    "tfidf = TfidfVectorizer()\n",
    "\n",
    "tfidf_df = tfidf.fit_transform(df_text.apply(' '.join))\n",
    "print(tfidf_df)"
   ]
  },
  {
   "cell_type": "code",
   "execution_count": 11,
   "id": "0b6bf26b-dcdb-4627-b5c7-86eacbfc7f2a",
   "metadata": {},
   "outputs": [
    {
     "name": "stdout",
     "output_type": "stream",
     "text": [
      "[[ 0.3338029  -0.21374745 -0.28799139  0.18593961]\n",
      " [ 0.19104546 -0.10968956 -0.01713882  0.03460272]\n",
      " [ 0.2828435  -0.1037669  -0.2670521   0.10909334]\n",
      " ...\n",
      " [ 0.05338554  0.05151843  0.04462632  0.11163607]\n",
      " [ 0.05154547  0.04954514  0.04217785  0.13423299]\n",
      " [ 0.04269714  0.04087804  0.03471624  0.09666209]]\n"
     ]
    }
   ],
   "source": [
    "lsa = TruncatedSVD(n_components=4, algorithm='randomized', n_iter=15, random_state=42)\n",
    "result = lsa.fit_transform(tfidf_df)\n",
    "\n",
    "for i in range(result.shape[1]):\n",
    "    df_text[f'LSA Topic {i}'] = result[:, i]\n",
    "print (result)"
   ]
  },
  {
   "cell_type": "code",
   "execution_count": 12,
   "id": "04067137-4ffd-4587-ad0d-79834fd09a60",
   "metadata": {},
   "outputs": [
    {
     "name": "stdout",
     "output_type": "stream",
     "text": [
      "Topic 1: student, academic, limited, access\n",
      "Topic 2: student, university, opportunity, option\n",
      "Topic 3: health, mental, time, academic\n",
      "Topic 4: option, food, campus, cafeteria\n"
     ]
    }
   ],
   "source": [
    "n_top_words = 4\n",
    "topics = []\n",
    "feature_names = vectorizer.get_feature_names_out()\n",
    "\n",
    "topics = [[feature_names[i] for i in topic.argsort()[:-n_top_words - 1:-1]] for topic in lsa.components_]\n",
    "\n",
    "for i, topic in enumerate(topics):\n",
    "    print(f\"Topic {i+1}: {', '.join(topic)}\")"
   ]
  },
  {
   "cell_type": "code",
   "execution_count": 13,
   "id": "9168101c-1df2-4f26-bd78-f0945a17a7f2",
   "metadata": {},
   "outputs": [
    {
     "name": "stdout",
     "output_type": "stream",
     "text": [
      "[[0.54922972 0.14459431 0.16487139 0.14130458]\n",
      " [0.43655054 0.17647863 0.19737592 0.18959491]\n",
      " [0.51555554 0.16741089 0.16016483 0.15686873]\n",
      " ...\n",
      " [0.19448976 0.36018086 0.20767696 0.23765242]\n",
      " [0.18905741 0.38846076 0.20013592 0.22234591]\n",
      " [0.19767028 0.35576651 0.20708495 0.23947825]]\n"
     ]
    }
   ],
   "source": [
    "lda = LatentDirichletAllocation(n_components=4, doc_topic_prior=0.9, topic_word_prior=0.9)\n",
    "result = lda.fit_transform(tfidf_df)\n",
    "\n",
    "for i in range(result.shape[1]):\n",
    "    df_text[f'LDA Topic {i}'] = result[:, i]\n",
    "print (result)"
   ]
  },
  {
   "cell_type": "code",
   "execution_count": 14,
   "id": "e3dfbcf0-aab5-4383-bc59-69c7d2327aa7",
   "metadata": {
    "editable": true,
    "slideshow": {
     "slide_type": ""
    },
    "tags": []
   },
   "outputs": [
    {
     "name": "stdout",
     "output_type": "stream",
     "text": [
      "Topic 1: access, limited, course, online\n",
      "Topic 2: food, like, available, pay\n",
      "Topic 3: academic, time, university, student\n",
      "Topic 4: option, student, cafeteria, campus\n"
     ]
    }
   ],
   "source": [
    "n_top_words = 4\n",
    "topics = []\n",
    "feature_names = vectorizer.get_feature_names_out()\n",
    "\n",
    "topics = [[feature_names[i] for i in topic.argsort()[:-n_top_words - 1:-1]] for topic in lda.components_]\n",
    "\n",
    "for i, topic in enumerate(topics):\n",
    "    print(f\"Topic {i+1}: {', '.join(topic)}\")"
   ]
  },
  {
   "cell_type": "code",
   "execution_count": null,
   "id": "c38afc6f-743c-475d-b703-5b4cf29a51a4",
   "metadata": {},
   "outputs": [],
   "source": []
  }
 ],
 "metadata": {
  "kernelspec": {
   "display_name": "Python 3 (ipykernel)",
   "language": "python",
   "name": "python3"
  },
  "language_info": {
   "codemirror_mode": {
    "name": "ipython",
    "version": 3
   },
   "file_extension": ".py",
   "mimetype": "text/x-python",
   "name": "python",
   "nbconvert_exporter": "python",
   "pygments_lexer": "ipython3",
   "version": "3.9.13"
  }
 },
 "nbformat": 4,
 "nbformat_minor": 5
}
